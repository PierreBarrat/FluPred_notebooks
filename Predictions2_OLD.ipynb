{
 "cells": [
  {
   "cell_type": "code",
   "execution_count": 1,
   "metadata": {},
   "outputs": [
    {
     "name": "stderr",
     "output_type": "stream",
     "text": [
      "┌ Info: Recompiling stale cache file /home/pierrebc/.julia/compiled/v1.1/BioTools.ji for BioTools [top-level]\n",
      "└ @ Base loading.jl:1184\n",
      "┌ Info: Recompiling stale cache file /home/pierrebc/.julia/compiled/v1.1/MyBioTools.ji for MyBioTools [top-level]\n",
      "└ @ Base loading.jl:1184\n",
      "┌ Info: Recompiling stale cache file /home/pierrebc/.julia/compiled/v1.1/EarthMoversDistance.ji for EarthMoversDistance [top-level]\n",
      "└ @ Base loading.jl:1184\n"
     ]
    },
    {
     "data": {
      "text/plain": [
       "cluster_lbi_maxima! (generic function with 1 method)"
      ]
     },
     "execution_count": 1,
     "metadata": {},
     "output_type": "execute_result"
    }
   ],
   "source": [
    "using StatsBase, Random\n",
    "using BioSequences, BioTools, MyBioTools.FluTools, TreeTools, EarthMoversDistance\n",
    "using Plots\n",
    "using Dates\n",
    "using FastaIO\n",
    "include(\"functions/Predictions.jl\")"
   ]
  },
  {
   "cell_type": "code",
   "execution_count": 2,
   "metadata": {},
   "outputs": [
    {
     "data": {
      "image/png": "[encoded data removed]"
     },
     "execution_count": 2,
     "metadata": {},
     "output_type": "execute_result"
    }
   ],
   "source": [
    "pyplot()\n",
    "plot(rand(10),size=(1,1))"
   ]
  },
  {
   "cell_type": "code",
   "execution_count": 3,
   "metadata": {},
   "outputs": [],
   "source": [
    "sp = FluTools.StrainPop(\"../data/newtrees/100_per_4month/aligned_ha_aa.fasta\");"
   ]
  },
  {
   "cell_type": "code",
   "execution_count": 4,
   "metadata": {},
   "outputs": [],
   "source": [
    "FluTools.bin_by_date!(sp, start = Date(2002,12,1), binwidth=Day(61), binspacing = Day(122));\n",
    "datebins = sort(collect(keys(sp.datebin)));"
   ]
  },
  {
   "cell_type": "code",
   "execution_count": 5,
   "metadata": {},
   "outputs": [
    {
     "name": "stdout",
     "output_type": "stream",
     "text": [
      "  0.824342 seconds (1.88 M allocations: 169.039 MiB, 31.28% gc time)\n"
     ]
    }
   ],
   "source": [
    "t = read_tree(\"../data/newtrees/100_per_4month/results/tree_raw.nwk\", NodeDataType=LBIData);\n",
    "FluTools.get_lbi!(sp, t);\n",
    "for (d,v) in sp.lbi_datebin\n",
    "    for s in values(sp.datebin[d])\n",
    "        sp.straindict[s.strain].fitness = v[s.strain]\n",
    "    end\n",
    "end"
   ]
  },
  {
   "cell_type": "code",
   "execution_count": 6,
   "metadata": {},
   "outputs": [],
   "source": [
    "llm_original = FluTools.local_lbi_maximas!(t, sp, FluTools.get_tau(\"h3n2\",\"ha\"));"
   ]
  },
  {
   "cell_type": "markdown",
   "metadata": {},
   "source": [
    "- For each local maximum, find the closest existing strain in tree distance. This will be the predictor. \n",
    "- For each local maximum, distance to consensus? A histogram of this? \n",
    "- EMD between the `i` first local maxima and the future population. Does this go through a minimum? "
   ]
  },
  {
   "cell_type": "code",
   "execution_count": 300,
   "metadata": {},
   "outputs": [],
   "source": [
    "# Replacing the internal node by the name of the closest leaf in `llm`\n",
    "llm = Dict()\n",
    "for db in datebins\n",
    "    popnames = [x.strain for x in sp.datebin[db]]\n",
    "    new = []\n",
    "    for (n,lbi) in llm_original[db]\n",
    "        l = closest_tree_leaf(n, t, popnames)[1]\n",
    "        push!(new, (label=l, lbi=lbi))\n",
    "    end\n",
    "    llm[db] = new\n",
    "end"
   ]
  },
  {
   "cell_type": "code",
   "execution_count": 302,
   "metadata": {},
   "outputs": [
    {
     "name": "stdout",
     "output_type": "stream",
     "text": [
      "(2015-08-11, 2015-12-11)\n",
      "A/Niger/3107/2015 - 1.0 - 1.0\n",
      "A/Alaska/194/2015 - 0.5981640770446404 - 1.0\n",
      "A/Lao/I943/2015 - 0.5896447383303429 - 0.0\n",
      "A/Hunan-Yueyanglou/1756/2015 - 0.5534829397347635 - 0.0\n",
      "A/Niger/3107/2015 - 0.5110306712077205 - 1.0\n",
      "A/Norway/2691/2015 - 0.39275618614163665 - 2.0\n",
      "A/Washington/60/2015 - 0.33101580070581077 - 3.0\n",
      "A/Alabama/11/2015 - 0.2819982701676834 - 0.0\n",
      "A/Alaska/194/2015 - 0.27848535920532613 - 1.0\n",
      "A/Colombia/6438/2015 - 0.2727607000242475 - 10.0\n",
      "A/SouthAustralia/133/2015 - 0.26731515132840006 - 2.0\n",
      "A/Jiangsu-Gusu/11664/2015 - 0.23518966689466597 - 11.0\n",
      "A/Jiangsu-Gusu/11664/2015 - 0.23282568545840543 - 11.0\n",
      "A/Iowa/54/2015 - 0.23198490502725647 - 1.0\n",
      "A/Jiangsu-Gusu/11664/2015 - 0.21017418711014654 - 11.0\n",
      "A/Jiangsu-Gusu/11664/2015 - 0.20993191648375048 - 11.0\n",
      "A/Brazil/636/2015 - 0.20962541499261297 - 12.0\n",
      "A/Victoria/662/2015 - 0.207274779453233 - 16.0\n",
      "A/Jiangsu-Chongchuan/12714/2015-egg - 0.20721310702748982 - 22.0\n",
      "A/Mali/109CS/2015 - 0.20095389761588317 - 1.0\n",
      "A/Alberta/RV2382/2015 - 0.17700125900174152 - 1.0\n",
      "A/BurkinaFaso/92/2015 - 0.17563974849251054 - 3.0\n",
      "Average distance of the pop to its consensus: 2.9753907686160956\n"
     ]
    }
   ],
   "source": [
    "# Let's look at the distance to consensus for a specific date bin\n",
    "# The datebin `end-8` has a very split population, with four clearly distinct clades in the tree\n",
    "db = datebins[end-8]\n",
    "pop = sp.datebin[db]\n",
    "cons = FluTools.consensus(pop)\n",
    "dat = []\n",
    "println(db)\n",
    "for (name, lbi) in sort(llm[db], by = x->x.lbi, rev=true)\n",
    "    hd = FluTools.hamming(cons.aa_seq, sp.straindict[name].aa_seq)\n",
    "    println(\"$name - $lbi - $hd\")\n",
    "end\n",
    "hd = FluTools.popdistance(pop, pop, disttype=:hamming_consensus)*566\n",
    "println(\"Average distance of the pop to its consensus: $hd\")"
   ]
  },
  {
   "cell_type": "code",
   "execution_count": 303,
   "metadata": {},
   "outputs": [
    {
     "name": "stdout",
     "output_type": "stream",
     "text": [
      "(2015-08-11, 2015-12-11) - -0.20986940081362707\n",
      "(2015-12-11, 2016-04-11) - 4.2225101208330535\n",
      "(2016-04-11, 2016-08-11) - 5.235828992017648\n",
      "(2016-08-11, 2016-12-11) - 5.549751120830341\n",
      "(2016-12-11, 2017-04-12) - 6.809640553908932\n",
      "(2017-04-12, 2017-08-12) - 7.2204937756865135\n",
      "(2017-08-12, 2017-12-12) - 6.878434017951235\n",
      "(2017-12-12, 2018-04-13) - 6.07879151551341\n",
      "(2018-04-13, 2018-08-13) - 7.243804243154367\n"
     ]
    }
   ],
   "source": [
    "# What's the EMD from `pop` to the future populations? \n",
    "emd_to_future = []\n",
    "for db2 in datebins[end-8:end]\n",
    "    emd = EarthMoversDistance.EMD([LongAminoAcidSeq(x.aa_seq) for x in sp.datebin[db2]], [LongAminoAcidSeq(x.aa_seq) for x in pop])\n",
    "    println(\"$db2 - $(emd[1].emd)\")\n",
    "    push!(emd_to_future, (db2[1]-db[1] ,emd[1].emd))\n",
    "end"
   ]
  },
  {
   "cell_type": "code",
   "execution_count": 258,
   "metadata": {},
   "outputs": [
    {
     "data": {
      "text/plain": [
       "get_predictor (generic function with 2 methods)"
      ]
     },
     "execution_count": 258,
     "metadata": {},
     "output_type": "execute_result"
    }
   ],
   "source": [
    "# Predictor from an array of tuples (name, score)\n",
    "function get_predictor(strains, sp, npred=length(strains))\n",
    "    tmp = sort(strains, by = x->x.lbi, rev=true)[1:npred]\n",
    "    predseqs = [LongAminoAcidSeq(sp.straindict[x.label].aa_seq) for x in tmp]\n",
    "    predweight = [x.lbi for x in tmp] / sum(x.lbi for x in tmp)\n",
    "    #\n",
    "    predictor = Dict(k=>0. for k in predseqs)\n",
    "    predinfo = Dict(n.label=>0. for n in tmp)\n",
    "    for (i,s) in enumerate(predseqs)\n",
    "        predictor[s] += predweight[i]\n",
    "        predinfo[tmp[i].label] += predweight[i]\n",
    "    end\n",
    "    return predictor, predinfo\n",
    "end"
   ]
  },
  {
   "cell_type": "code",
   "execution_count": 333,
   "metadata": {},
   "outputs": [
    {
     "name": "stdout",
     "output_type": "stream",
     "text": [
      "(2004-08-02, 2004-12-02)\n",
      "(2004-12-02, 2005-04-03)\n",
      "(2005-04-03, 2005-08-03)\n",
      "(2005-08-03, 2005-12-03)\n",
      "(2005-12-03, 2006-04-04)\n",
      "(2006-04-04, 2006-08-04)\n",
      "(2006-08-04, 2006-12-04)\n",
      "(2006-12-04, 2007-04-05)\n",
      "(2007-04-05, 2007-08-05)\n",
      "(2007-08-05, 2007-12-05)\n",
      "(2007-12-05, 2008-04-05)\n",
      "(2008-04-05, 2008-08-05)\n",
      "(2008-08-05, 2008-12-05)\n",
      "(2008-12-05, 2009-04-06)\n",
      "(2009-04-06, 2009-08-06)\n",
      "(2009-08-06, 2009-12-06)\n",
      "(2009-12-06, 2010-04-07)\n",
      "(2010-04-07, 2010-08-07)\n"
     ]
    }
   ],
   "source": [
    "# What's the EMD from `pop` to the future populations? \n",
    "toplbi = Dict()\n",
    "top5localmax = Dict()\n",
    "localmax = Dict()\n",
    "allpop = Dict()\n",
    "cons = Dict()\n",
    "ilist = 6:length(datebins)-24\n",
    "for i in ilist\n",
    "    db = datebins[i]\n",
    "    println(db)\n",
    "    predictor_all = get_predictor(llm[db], sp)[1]\n",
    "    predictor_top = get_predictor(llm[db], sp, 1)[1]\n",
    "    predictor_top_5 = get_predictor(llm[db], sp, min(5, length(llm[db])))[1]\n",
    "    predictor_allpop = EarthMoversDistance.sequence_distribution([LongAminoAcidSeq(x.aa_seq) for x in sp.datebin[db]])\n",
    "    predictor_cons = EarthMoversDistance.sequence_distribution([LongAminoAcidSeq(FluTools.consensus(sp.datebin[db]).aa_seq)])\n",
    "\n",
    "    for db2 in datebins[i:i+5]\n",
    "        future_distribution = EarthMoversDistance.sequence_distribution([LongAminoAcidSeq(x.aa_seq) for x in sp.datebin[db2]])\n",
    "        # using all maximas\n",
    "        emd = EarthMoversDistance.EMD(predictor_all, future_distribution).emd\n",
    "        localmax[db2[1] - db[1]] = get(localmax, db2[1] - db[1], 0.) + emd / (length(ilist))\n",
    "        # Using top  lbi\n",
    "        emd = EarthMoversDistance.EMD(predictor_top, future_distribution).emd\n",
    "        toplbi[db2[1] - db[1]] = get(toplbi, db2[1] - db[1], 0.) + emd / (length(ilist))\n",
    "        # Using all current population\n",
    "        emd = EarthMoversDistance.EMD(predictor_allpop, future_distribution).emd\n",
    "        allpop[db2[1] - db[1]] = get(allpop, db2[1] - db[1], 0.) + emd / (length(ilist))\n",
    "        # Using top 5 local maxima\n",
    "        emd = EarthMoversDistance.EMD(predictor_top_5, future_distribution).emd\n",
    "        top5localmax[db2[1] - db[1]] = get(top5localmax, db2[1] - db[1], 0.) + emd / (length(ilist))\n",
    "        # Using consensus\n",
    "        emd = EarthMoversDistance.EMD(predictor_cons, future_distribution).emd\n",
    "        cons[db2[1] - db[1]] = get(cons, db2[1] - db[1], 0.) + emd / (length(ilist))       \n",
    "    end\n",
    "end\n"
   ]
  },
  {
   "cell_type": "code",
   "execution_count": 334,
   "metadata": {},
   "outputs": [
    {
     "data": {
      "image/png": "[encoded data removed]"
     },
     "execution_count": 334,
     "metadata": {},
     "output_type": "execute_result"
    }
   ],
   "source": [
    "p = plot([x[1] for x in sort(allpop)], [x[2] for x in sort(allpop)], label=\"All present population\")\n",
    "plot!(p, [x[1] for x in sort(toplbi)], [x[2] for x in sort(toplbi)], label=\"Top LBI\")\n",
    "plot!(p, [x[1] for x in sort(localmax)], [x[2] for x in sort(localmax)], label=\"Local LBI maximas\")\n",
    "plot!(p, [x[1] for x in sort(top5localmax)], [x[2] for x in sort(top5localmax)], label=\"Top 5 local maximas\")\n",
    "plot!(p, [x[1] for x in sort(cons)], [x[2] for x in sort(cons)], label=\"Consensus\")"
   ]
  },
  {
   "cell_type": "code",
   "execution_count": 340,
   "metadata": {},
   "outputs": [
    {
     "data": {
      "text/plain": [
       "0.01060070671378092"
      ]
     },
     "execution_count": 340,
     "metadata": {},
     "output_type": "execute_result"
    }
   ],
   "source": [
    "6/566"
   ]
  },
  {
   "cell_type": "code",
   "execution_count": 359,
   "metadata": {},
   "outputs": [
    {
     "name": "stdout",
     "output_type": "stream",
     "text": [
      "Ref datebin: (2016-04-11, 2016-08-11)\n",
      "days: TopLBI - Consensus - All pop \n",
      "0 days: 5.5353541064425436 - 5.5353541064425436 - -0.031068300023763852\n",
      "122 days: 5.636364060799327 - 5.636364060799327 - 3.474917193449806\n",
      "244 days: 4.727272810939542 - 4.727272810939542 - 6.03110069982044\n",
      "366 days: 6.590000193383814 - 6.590000193383814 - 7.120785041622318\n",
      "488 days: 7.632663455910119 - 7.632663455910119 - 7.711268411039152\n",
      "610 days: 7.660000163994615 - 7.660000163994615 - 7.659954573981565\n",
      "732 days: 8.212121427030938 - 8.212121427030938 - 8.11915043425216\n"
     ]
    }
   ],
   "source": [
    "# For a specific datebin\n",
    "i = 41\n",
    "db = datebins[i]\n",
    "println(\"Ref datebin: $db\")\n",
    "predictor_all = get_predictor(llm[db], sp)[1]\n",
    "predictor_top = get_predictor(llm[db], sp, 1)[1]\n",
    "predictor_top_5 = get_predictor(llm[db], sp, min(5, length(llm[db])))[1]\n",
    "predictor_allpop = EarthMoversDistance.sequence_distribution([LongAminoAcidSeq(x.aa_seq) for x in sp.datebin[db]])\n",
    "predictor_cons = EarthMoversDistance.sequence_distribution([LongAminoAcidSeq(FluTools.consensus(sp.datebin[db]).aa_seq)])\n",
    "println(\"days: TopLBI - Consensus - All pop \")\n",
    "for db2 in datebins[i:i+6]\n",
    "    future_distribution = EarthMoversDistance.sequence_distribution([LongAminoAcidSeq(x.aa_seq) for x in sp.datebin[db2]])\n",
    "#     # using all maximas\n",
    "#     emd = EarthMoversDistance.EMD(predictor_all, future_distribution).emd\n",
    "#     localmax[db2[1] - db[1]] = get(localmax, db2[1] - db[1], 0.) + emd / (length(datebins)-12)\n",
    "#     # Using top  lbi\n",
    "    emd_toplbi = EarthMoversDistance.EMD(predictor_top, future_distribution).emd\n",
    "#     toplbi[db2[1] - db[1]] = get(toplbi, db2[1] - db[1], 0.) + emd / (length(datebins)-12)\n",
    "#     # Using all current population\n",
    "    emd_allpop = EarthMoversDistance.EMD(predictor_allpop, future_distribution).emd\n",
    "#     allpop[db2[1] - db[1]] = get(allpop, db2[1] - db[1], 0.) + emd / (length(datebins)-12)\n",
    "#     # Using top 5 local maxima\n",
    "#     emd = EarthMoversDistance.EMD(predictor_top_5, future_distribution).emd\n",
    "#     top5localmax[db2[1] - db[1]] = get(top5localmax, db2[1] - db[1], 0.) + emd / (length(datebins)-12)\n",
    "#     # Using consensus\n",
    "    emd_cons = EarthMoversDistance.EMD(predictor_cons, future_distribution).emd\n",
    "    cons[db2[1] - db[1]] = get(cons, db2[1] - db[1], 0.) + emd / (length(datebins)-12)    \n",
    "    println(db2[1]-db[1], \": \", emd_toplbi, \" - \", emd_cons, \" - \", emd_allpop)\n",
    "end"
   ]
  },
  {
   "cell_type": "code",
   "execution_count": 376,
   "metadata": {},
   "outputs": [
    {
     "name": "stdout",
     "output_type": "stream",
     "text": [
      "(2010-12-07, 2011-04-08)\n"
     ]
    }
   ],
   "source": [
    "db = datebins[25]\n",
    "println(db)\n",
    "db2 = datebins[29]\n",
    "cons1 = FluTools.consensus(sp.datebin[db])\n",
    "tmp1 = [BioTools.hamming(LongAminoAcidSeq(x.aa_seq), LongAminoAcidSeq(cons1.aa_seq)) for x in sp.datebin[db2]];\n"
   ]
  },
  {
   "cell_type": "code",
   "execution_count": 377,
   "metadata": {},
   "outputs": [
    {
     "data": {
      "text/plain": [
       "9.477799436257763"
      ]
     },
     "execution_count": 377,
     "metadata": {},
     "output_type": "execute_result"
    }
   ],
   "source": [
    "pop1 = sp.datebin[db]\n",
    "pop2 = sp.datebin[db2]\n",
    "FluTools.popdistance([cons1], pop2)*566"
   ]
  },
  {
   "cell_type": "markdown",
   "metadata": {},
   "source": [
    "## Are lbi and number of closest leaves correlated? "
   ]
  },
  {
   "cell_type": "code",
   "execution_count": 426,
   "metadata": {},
   "outputs": [
    {
     "data": {
      "text/plain": [
       "cluster_lbi_maxima! (generic function with 1 method)"
      ]
     },
     "execution_count": 426,
     "metadata": {},
     "output_type": "execute_result"
    }
   ],
   "source": [
    "include(\"functions/Predictions.jl\")"
   ]
  },
  {
   "cell_type": "code",
   "execution_count": 13,
   "metadata": {},
   "outputs": [
    {
     "name": "stdout",
     "output_type": "stream",
     "text": [
      "(2015-08-11, 2015-12-11)\n"
     ]
    }
   ],
   "source": [
    "clusters = cluster_lbi_maxima!(t, sp);\n",
    "db = datebins[end-8]\n",
    "clusters[db]\n",
    "println(db)"
   ]
  },
  {
   "cell_type": "code",
   "execution_count": 520,
   "metadata": {},
   "outputs": [
    {
     "data": {
      "text/plain": [
       "get_predictor (generic function with 3 methods)"
      ]
     },
     "execution_count": 520,
     "metadata": {},
     "output_type": "execute_result"
    }
   ],
   "source": [
    "function get_predictor(clusters::Dict, sp)\n",
    "    Z = Float64(sum(length(x[2]) for x in clusters))\n",
    "    out = Dict{BioSequence, Float64}()\n",
    "    for c in values(clusters)\n",
    "        cons = FluTools.consensus([sp.straindict[x] for x in c])\n",
    "        seq = LongAminoAcidSeq(cons.aa_seq)\n",
    "        out[seq] = get(out, seq, 0.) + length(c) / Z\n",
    "    end\n",
    "    return out\n",
    "end"
   ]
  },
  {
   "cell_type": "code",
   "execution_count": 534,
   "metadata": {
    "scrolled": true
   },
   "outputs": [
    {
     "name": "stdout",
     "output_type": "stream",
     "text": [
      "(2002-12-01, 2003-04-02)\n",
      "(2003-04-02, 2003-08-02)\n",
      "(2003-08-02, 2003-12-02)\n",
      "(2003-12-02, 2004-04-02)\n",
      "(2004-04-02, 2004-08-02)\n",
      "(2004-08-02, 2004-12-02)\n",
      "(2004-12-02, 2005-04-03)\n",
      "(2005-04-03, 2005-08-03)\n",
      "(2005-08-03, 2005-12-03)\n",
      "(2005-12-03, 2006-04-04)\n",
      "(2006-04-04, 2006-08-04)\n",
      "(2006-08-04, 2006-12-04)\n",
      "(2006-12-04, 2007-04-05)\n",
      "(2007-04-05, 2007-08-05)\n",
      "(2007-08-05, 2007-12-05)\n",
      "(2007-12-05, 2008-04-05)\n",
      "(2008-04-05, 2008-08-05)\n",
      "(2008-08-05, 2008-12-05)\n",
      "(2008-12-05, 2009-04-06)\n",
      "(2009-04-06, 2009-08-06)\n",
      "(2009-08-06, 2009-12-06)\n",
      "(2009-12-06, 2010-04-07)\n",
      "(2010-04-07, 2010-08-07)\n",
      "(2010-08-07, 2010-12-07)\n",
      "(2010-12-07, 2011-04-08)\n",
      "(2011-04-08, 2011-08-08)\n",
      "(2011-08-08, 2011-12-08)\n",
      "(2011-12-08, 2012-04-08)\n",
      "(2012-04-08, 2012-08-08)\n",
      "(2012-08-08, 2012-12-08)\n",
      "(2012-12-08, 2013-04-09)\n",
      "(2013-04-09, 2013-08-09)\n",
      "(2013-08-09, 2013-12-09)\n",
      "(2013-12-09, 2014-04-10)\n",
      "(2014-04-10, 2014-08-10)\n",
      "(2014-08-10, 2014-12-10)\n",
      "(2014-12-10, 2015-04-11)\n",
      "(2015-04-11, 2015-08-11)\n",
      "(2015-08-11, 2015-12-11)\n"
     ]
    }
   ],
   "source": [
    "idx = 1:length(datebins)-8\n",
    "dat_cons = Dict(); dat_clusters = Dict(); dat_all = Dict()\n",
    "for i in idx\n",
    "    db = datebins[i]\n",
    "    println(db)\n",
    "    predictor_cons = Dict(LongAminoAcidSeq(FluTools.consensus(sp.datebin[db]).aa_seq) => 1.)\n",
    "    predictor_clusters = get_predictor(clusters[db], sp)\n",
    "    predictor_all = EarthMoversDistance.sequence_distribution([LongAminoAcidSeq(x.aa_seq) for x in sp.datebin[db]])\n",
    "    for db2 in datebins[i:i+8]\n",
    "        future_distribution = EarthMoversDistance.sequence_distribution([LongAminoAcidSeq(x.aa_seq) for x in sp.datebin[db2]])\n",
    "        # Consensus\n",
    "        emd = EarthMoversDistance.EMD(predictor_cons, future_distribution).emd\n",
    "        dat_cons[db2[1]-db[1]] = get(dat_cons, db2[1] - db[1], 0.) + emd / length(idx)\n",
    "        # Clusters\n",
    "        emd = EarthMoversDistance.EMD(predictor_clusters, future_distribution).emd\n",
    "        dat_clusters[db2[1]-db[1]] = get(dat_clusters, db2[1] - db[1], 0.) + emd / length(idx)\n",
    "        # All present population\n",
    "        emd = EarthMoversDistance.EMD(predictor_all, future_distribution).emd\n",
    "        dat_all[db2[1]-db[1]] = get(dat_all, db2[1] - db[1], 0.) + emd / length(idx)\n",
    "    end\n",
    "end\n",
    "dat_cons = sort(dat_cons); dat_clusters = sort(dat_clusters); sort(dat_all)"
   ]
  },
  {
   "cell_type": "code",
   "execution_count": 537,
   "metadata": {},
   "outputs": [
    {
     "data": {
      "image/png": "[encoded data removed]"
     },
     "execution_count": 537,
     "metadata": {},
     "output_type": "execute_result"
    }
   ],
   "source": [
    "plot([x[1] for x in dat_cons], [x[2] for x in dat_cons], label=\"Global consensus\")\n",
    "plot!([x[1] for x in dat_clusters], [x[2] for x in dat_clusters], label=\"Cluster consensus\")\n",
    "plot!([x[1] for x in dat_all], [x[2] for x in dat_all], label=\"All present population\")"
   ]
  },
  {
   "cell_type": "code",
   "execution_count": 538,
   "metadata": {},
   "outputs": [
    {
     "data": {
      "text/plain": [
       "0.0038280329799764428"
      ]
     },
     "execution_count": 538,
     "metadata": {},
     "output_type": "execute_result"
    }
   ],
   "source": [
    "6.5/3/566"
   ]
  },
  {
   "cell_type": "code",
   "execution_count": 550,
   "metadata": {},
   "outputs": [],
   "source": [
    "divtimes = []\n",
    "for db in datebins\n",
    "    pop = sp.datebin[db]\n",
    "    for i in 1:length(pop)\n",
    "        for j in (i+1):length(pop)\n",
    "            push!(divtimes, TreeTools.node_divtime(t.lleaves[pop[i].strain], t.lleaves[pop[j].strain])/2 / 0.004 * 365)\n",
    "        end\n",
    "    end\n",
    "end"
   ]
  },
  {
   "cell_type": "code",
   "execution_count": 554,
   "metadata": {},
   "outputs": [
    {
     "data": {
      "image/png": "[encoded data removed]"
     },
     "execution_count": 554,
     "metadata": {},
     "output_type": "execute_result"
    }
   ],
   "source": [
    "histogram(divtimes, bins = 0:50:2000)"
   ]
  },
  {
   "cell_type": "code",
   "execution_count": 546,
   "metadata": {},
   "outputs": [
    {
     "data": {
      "text/plain": [
       "0.01952301"
      ]
     },
     "execution_count": 546,
     "metadata": {},
     "output_type": "execute_result"
    }
   ],
   "source": [
    "db = datebins[39]\n",
    "pop = sp.datebin[db]\n",
    "i = 1\n",
    "j = 2\n",
    "TreeTools.node_divtime(t.lleaves[pop[i].strain], t.lleaves[pop[j].strain])"
   ]
  },
  {
   "cell_type": "code",
   "execution_count": 549,
   "metadata": {},
   "outputs": [
    {
     "data": {
      "text/plain": [
       "4.75"
      ]
     },
     "execution_count": 549,
     "metadata": {},
     "output_type": "execute_result"
    }
   ],
   "source": [
    "0.019 / 0.004 "
   ]
  },
  {
   "cell_type": "code",
   "execution_count": null,
   "metadata": {},
   "outputs": [],
   "source": []
  },
  {
   "cell_type": "code",
   "execution_count": null,
   "metadata": {},
   "outputs": [],
   "source": []
  }
 ],
 "metadata": {
  "kernelspec": {
   "display_name": "Julia 1.1.0",
   "language": "julia",
   "name": "julia-1.1"
  },
  "language_info": {
   "file_extension": ".jl",
   "mimetype": "application/julia",
   "name": "julia",
   "version": "1.1.0"
  }
 },
 "nbformat": 4,
 "nbformat_minor": 2
}
