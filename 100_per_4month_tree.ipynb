{
 "cells": [
  {
   "cell_type": "code",
   "execution_count": 1,
   "metadata": {},
   "outputs": [],
   "source": [
    "using MyBioTools.FluTools\n",
    "using Dates\n",
    "using Plots, StatsPlots\n",
    "using StatsBase, Statistics\n",
    "using TreeTools\n",
    "using Profile, ProfileView\n",
    "using BenchmarkTools\n",
    "using BioTools, BioSequences\n",
    "using Random"
   ]
  },
  {
   "cell_type": "code",
   "execution_count": 5,
   "metadata": {},
   "outputs": [
    {
     "name": "stdout",
     "output_type": "stream",
     "text": [
      "Removing strains...\n"
     ]
    }
   ],
   "source": [
    "sp = FluTools.StrainPop(\"../data/aligned_h3n2_ha_aa.fasta\");\n",
    "FluTools.remove_gapped_strains!(sp);\n",
    "FluTools.bin_by_date!(sp, start = Date(2002,12,1), binwidth=Day(61), binspacing = Day(122));\n",
    "datebins = sort(collect(keys(sp.datebin)));"
   ]
  },
  {
   "cell_type": "code",
   "execution_count": null,
   "metadata": {},
   "outputs": [],
   "source": []
  },
  {
   "cell_type": "code",
   "execution_count": 17,
   "metadata": {},
   "outputs": [],
   "source": [
    "# Only rerun for A NEW SELECTION OF STRAINS\n",
    "NEW_STRAIN_SELECTION = false\n",
    "if NEW_STRAIN_SELECTION\n",
    "    strains_to_write = Array{BioTools.Strain}(undef, 0)\n",
    "    for db in datebins[1:end]\n",
    "        pop = sp.datebin[db]\n",
    "        strains = shuffle(pop)[1:min(100,length(pop))]\n",
    "        cons = FluTools.consensus(strains)\n",
    "\n",
    "        for s in strains\n",
    "            dat = Dict()\n",
    "            dat[\"strain\"] = s.strain\n",
    "            dat[\"virus\"] = \"flu\"\n",
    "            dat[\"date\"] = s.date\n",
    "    #         dat[\"lbi\"] = round(s.fitness, digits=5) # Will be added when the tree is built\n",
    "            dat[\"dist_to_consensus\"] = FluTools.hamming(s.aa_seq, cons.aa_seq) #/ dist_to_cons_scale, digits=5)\n",
    "            push!(strains_to_write, BioTools.Strain(s.aa_seq, dat, :aa))\n",
    "        end\n",
    "    end\n",
    "end"
   ]
  },
  {
   "cell_type": "code",
   "execution_count": 41,
   "metadata": {},
   "outputs": [
    {
     "name": "stdout",
     "output_type": "stream",
     "text": [
      "Reading ../data/aligned_h3n2_ha.fasta...\n",
      "Read 46527 strains out of 61848. Filtered 15318. Could not read 3\n",
      "Filtered 330 strains\n"
     ]
    }
   ],
   "source": [
    "# This was using AA strains. To construct the tree, we need dna sequences\n",
    "nt_strains = BioTools.readfastastrains(\"../data/aligned_h3n2_ha.fasta\", :dna, BioTools.augur_all_header_fields, strainfilters = [BioTools.gapfilter]);\n",
    "BioTools.remove!(nt_strains, FluTools.outliers[\"h3n2\"], verbose=true);"
   ]
  },
  {
   "cell_type": "code",
   "execution_count": 18,
   "metadata": {},
   "outputs": [],
   "source": [
    "# Getting the nt sequence of all strains to write\n",
    "labels = map(x->x.data[\"strain\"], strains_to_write)\n",
    "nt_strains_to_write = Dict{String, Strain{BioSequences.DNAAlphabet{4}}}()\n",
    "for st in nt_strains\n",
    "    tmp = findfirst(==(st.data[\"strain\"]), labels)\n",
    "    if !isnothing(tmp) && st.data[\"country\"]!=\"?\"\n",
    "        nt_strains_to_write[st.data[\"strain\"]] = Strain(st.seq, merge(strains_to_write[tmp].data, st.data))\n",
    "    end\n",
    "end"
   ]
  },
  {
   "cell_type": "code",
   "execution_count": 19,
   "metadata": {},
   "outputs": [],
   "source": [
    "# Writing them to fasta\n",
    "fields = [:strain]#, :date, :virus, :region, :country, :authors, :dist_to_consensus]\n",
    "BioTools.writefasta(\"../data/newtrees/100_per_4month/secondary_files/aligned_ha_nolbi.fasta\", collect(values(nt_strains_to_write)), fields)"
   ]
  },
  {
   "cell_type": "markdown",
   "metadata": {},
   "source": [
    "# Once the raw tree is built\n",
    "We will now compute LBI values, distance to consensus, and add this to metadata."
   ]
  },
  {
   "cell_type": "code",
   "execution_count": 21,
   "metadata": {},
   "outputs": [
    {
     "name": "stdout",
     "output_type": "stream",
     "text": [
      "  0.789511 seconds (1.89 M allocations: 170.036 MiB, 9.29% gc time)\n"
     ]
    }
   ],
   "source": [
    "t = read_tree(\"../data/newtrees/100_per_4month/results/tree_raw.nwk\", NodeDataType=LBIData);\n",
    "FluTools.get_lbi!(sp, t);\n",
    "for (d,v) in sp.lbi_datebin\n",
    "    for s in values(sp.datebin[d])\n",
    "        sp.straindict[s.strain].fitness = v[s.strain]\n",
    "    end\n",
    "end"
   ]
  },
  {
   "cell_type": "code",
   "execution_count": 26,
   "metadata": {},
   "outputs": [],
   "source": [
    "# At this stage, `strains_to_write` may have strains with unknown country which \n",
    "# we filtered in `nt_strains_to_write`\n",
    "# For this reasonm `strains_to_write` is updated here with a new variable\n",
    "aa_strains_to_write = Dict{String, Strain{BioSequences.AminoAcidAlphabet}}()\n",
    "for (n,s) in nt_strains_to_write\n",
    "    s.data[\"lbi\"] = sp.straindict[s.data[\"strain\"]].fitness\n",
    "    aa_strains_to_write[s.data[\"strain\"]] = Strain(LongAminoAcidSeq(sp.straindict[s.data[\"strain\"]].aa_seq), s.data)\n",
    "end"
   ]
  },
  {
   "cell_type": "code",
   "execution_count": 27,
   "metadata": {},
   "outputs": [],
   "source": [
    "fields = [:strain, :date, :virus, :region, :country, :authors, :dist_to_consensus, :lbi]\n",
    "BioTools.writefasta(\"../data/newtrees/100_per_4month/aligned_ha_nt.fasta\", collect(values(nt_strains_to_write)), fields)\n"
   ]
  },
  {
   "cell_type": "code",
   "execution_count": 28,
   "metadata": {},
   "outputs": [
    {
     "name": "stdout",
     "output_type": "stream",
     "text": [
      "search: \u001b[0m\u001b[1mw\u001b[22m\u001b[0m\u001b[1mr\u001b[22m\u001b[0m\u001b[1mi\u001b[22m\u001b[0m\u001b[1mt\u001b[22m\u001b[0m\u001b[1me\u001b[22m\u001b[0m\u001b[1mf\u001b[22m\u001b[0m\u001b[1ma\u001b[22m\u001b[0m\u001b[1ms\u001b[22m\u001b[0m\u001b[1mt\u001b[22m\u001b[0m\u001b[1ma\u001b[22m \u001b[0m\u001b[1mw\u001b[22m\u001b[0m\u001b[1mr\u001b[22m\u001b[0m\u001b[1mi\u001b[22m\u001b[0m\u001b[1mt\u001b[22m\u001b[0m\u001b[1me\u001b[22m_\u001b[0m\u001b[1mf\u001b[22m\u001b[0m\u001b[1ma\u001b[22m\u001b[0m\u001b[1ms\u001b[22m\u001b[0m\u001b[1mt\u001b[22m\u001b[0m\u001b[1ma\u001b[22m\n",
      "\n"
     ]
    },
    {
     "data": {
      "text/latex": [
       "\\begin{verbatim}\n",
       "writefasta([io::IO = stdout], data)\n",
       "\\end{verbatim}\n",
       "This version of the function writes to an already opened \\texttt{IO} stream, defaulting to \\texttt{stdout}.\n",
       "\n",
       "\\rule{\\textwidth}{1pt}\n",
       "\\begin{verbatim}\n",
       "writefasta(filename::String, data, [mode::String = \"w\"])\n",
       "\\end{verbatim}\n",
       "This function dumps data to a FASTA file, auto-formatting it so to follow the specifications detailed in the section titled \\href{@ref}{The FASTA format}. The \\texttt{data} can be anything which is iterable and which produces \\texttt{(description, sequence)} tuples upon iteration, where the \\texttt{description} must be convertible to a \\texttt{String} and the \\texttt{sequence} can be any iterable object which yields elements convertible to ASCII characters (e.g. a \\texttt{String}, a \\texttt{Vector\\{UInt8\\}} etc.).\n",
       "\n",
       "Examples:\n",
       "\n",
       "\\begin{verbatim}\n",
       "writefasta(\"somefile.fasta\", [(\"GENE1\", \"GCATT\"), (\"GENE2\", \"ATTAGC\")])\n",
       "writefasta(\"somefile.fasta\", [\"GENE1\" => \"GCATT\", \"GENE2\" => \"ATTAGC\"])\n",
       "\\end{verbatim}\n",
       "If the \\texttt{filename} ends with \\texttt{.gz}, the result will be a gzip-compressed file.\n",
       "\n",
       "The \\texttt{mode} flag determines how the \\texttt{filename} is open; use \\texttt{\"a\"} to append the data to an existing file.\n",
       "\n",
       "\\rule{\\textwidth}{1pt}\n",
       "\\begin{verbatim}\n",
       "writefasta(s::AbstractStrain, fields; fillvals = false)\n",
       "writefasta(f::IO, s::AbstractStrain, fields; fillvals=false)\n",
       "writefasta(S::Array{<:AbstractStrain}, fields; fillvals = false)\n",
       "writefasta(f::String, S::Array{<:AbstractStrain}, fields; fillvals=false, mode=\"w\")\n",
       "\\end{verbatim}\n",
       "Write strain \\texttt{s} to a fasta format. Header is built using \\texttt{fields} from \\texttt{s.data}. \n",
       "\n"
      ],
      "text/markdown": [
       "```\n",
       "writefasta([io::IO = stdout], data)\n",
       "```\n",
       "\n",
       "This version of the function writes to an already opened `IO` stream, defaulting to `stdout`.\n",
       "\n",
       "---\n",
       "\n",
       "```\n",
       "writefasta(filename::String, data, [mode::String = \"w\"])\n",
       "```\n",
       "\n",
       "This function dumps data to a FASTA file, auto-formatting it so to follow the specifications detailed in the section titled [The FASTA format](@ref). The `data` can be anything which is iterable and which produces `(description, sequence)` tuples upon iteration, where the `description` must be convertible to a `String` and the `sequence` can be any iterable object which yields elements convertible to ASCII characters (e.g. a `String`, a `Vector{UInt8}` etc.).\n",
       "\n",
       "Examples:\n",
       "\n",
       "```julia\n",
       "writefasta(\"somefile.fasta\", [(\"GENE1\", \"GCATT\"), (\"GENE2\", \"ATTAGC\")])\n",
       "writefasta(\"somefile.fasta\", [\"GENE1\" => \"GCATT\", \"GENE2\" => \"ATTAGC\"])\n",
       "```\n",
       "\n",
       "If the `filename` ends with `.gz`, the result will be a gzip-compressed file.\n",
       "\n",
       "The `mode` flag determines how the `filename` is open; use `\"a\"` to append the data to an existing file.\n",
       "\n",
       "---\n",
       "\n",
       "```\n",
       "writefasta(s::AbstractStrain, fields; fillvals = false)\n",
       "writefasta(f::IO, s::AbstractStrain, fields; fillvals=false)\n",
       "writefasta(S::Array{<:AbstractStrain}, fields; fillvals = false)\n",
       "writefasta(f::String, S::Array{<:AbstractStrain}, fields; fillvals=false, mode=\"w\")\n",
       "```\n",
       "\n",
       "Write strain `s` to a fasta format. Header is built using `fields` from `s.data`. \n"
      ],
      "text/plain": [
       "\u001b[36m  writefasta([io::IO = stdout], data)\u001b[39m\n",
       "\n",
       "  This version of the function writes to an already opened \u001b[36mIO\u001b[39m stream,\n",
       "  defaulting to \u001b[36mstdout\u001b[39m.\n",
       "\n",
       "  ────────────────────────────────────────────────────────────────────────────\n",
       "\n",
       "\u001b[36m  writefasta(filename::String, data, [mode::String = \"w\"])\u001b[39m\n",
       "\n",
       "  This function dumps data to a FASTA file, auto-formatting it so to follow\n",
       "  the specifications detailed in the section titled The FASTA format. The \u001b[36mdata\u001b[39m\n",
       "  can be anything which is iterable and which produces \u001b[36m(description, sequence)\u001b[39m\n",
       "  tuples upon iteration, where the \u001b[36mdescription\u001b[39m must be convertible to a \u001b[36mString\u001b[39m\n",
       "  and the \u001b[36msequence\u001b[39m can be any iterable object which yields elements\n",
       "  convertible to ASCII characters (e.g. a \u001b[36mString\u001b[39m, a \u001b[36mVector{UInt8}\u001b[39m etc.).\n",
       "\n",
       "  Examples:\n",
       "\n",
       "\u001b[36m  writefasta(\"somefile.fasta\", [(\"GENE1\", \"GCATT\"), (\"GENE2\", \"ATTAGC\")])\u001b[39m\n",
       "\u001b[36m  writefasta(\"somefile.fasta\", [\"GENE1\" => \"GCATT\", \"GENE2\" => \"ATTAGC\"])\u001b[39m\n",
       "\n",
       "  If the \u001b[36mfilename\u001b[39m ends with \u001b[36m.gz\u001b[39m, the result will be a gzip-compressed file.\n",
       "\n",
       "  The \u001b[36mmode\u001b[39m flag determines how the \u001b[36mfilename\u001b[39m is open; use \u001b[36m\"a\"\u001b[39m to append the\n",
       "  data to an existing file.\n",
       "\n",
       "  ────────────────────────────────────────────────────────────────────────────\n",
       "\n",
       "\u001b[36m  writefasta(s::AbstractStrain, fields; fillvals = false)\u001b[39m\n",
       "\u001b[36m  writefasta(f::IO, s::AbstractStrain, fields; fillvals=false)\u001b[39m\n",
       "\u001b[36m  writefasta(S::Array{<:AbstractStrain}, fields; fillvals = false)\u001b[39m\n",
       "\u001b[36m  writefasta(f::String, S::Array{<:AbstractStrain}, fields; fillvals=false, mode=\"w\")\u001b[39m\n",
       "\n",
       "  Write strain \u001b[36ms\u001b[39m to a fasta format. Header is built using \u001b[36mfields\u001b[39m from \u001b[36ms.data\u001b[39m. "
      ]
     },
     "execution_count": 28,
     "metadata": {},
     "output_type": "execute_result"
    }
   ],
   "source": [
    "?writefasta"
   ]
  },
  {
   "cell_type": "code",
   "execution_count": 32,
   "metadata": {},
   "outputs": [],
   "source": [
    "# For compat with FluTools, I put specific fields for the AA sequences\n",
    "aa_fields = [\"strain\", \"virus\", \"accession\", \"date\", \"region\", \"country\", \"division\", \"location\", \"passage_category\", \"submitting_lab\", \"age\", \"gender\"]\n",
    "BioTools.writefasta(\"../data/newtrees/100_per_4month/aligned_ha_aa.fasta\", collect(values(aa_strains_to_write)), aa_fields, fillvals = true)"
   ]
  },
  {
   "cell_type": "code",
   "execution_count": null,
   "metadata": {},
   "outputs": [],
   "source": []
  }
 ],
 "metadata": {
  "kernelspec": {
   "display_name": "Julia 1.1.0",
   "language": "julia",
   "name": "julia-1.1"
  },
  "language_info": {
   "file_extension": ".jl",
   "mimetype": "application/julia",
   "name": "julia",
   "version": "1.1.0"
  }
 },
 "nbformat": 4,
 "nbformat_minor": 2
}
